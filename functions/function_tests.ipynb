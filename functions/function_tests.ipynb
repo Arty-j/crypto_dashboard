{
 "cells": [
  {
   "cell_type": "code",
   "execution_count": 5,
   "id": "5bd19e7c-9974-465f-8de8-86d56b59b4d9",
   "metadata": {},
   "outputs": [],
   "source": [
    "# Import the required libraries and dependencies\n",
    "import pandas as pd\n",
    "import numpy as np\n",
    "import requests\n",
    "import json\n",
    "import sqlalchemy as sql\n",
    "import requests\n",
    "import datetime\n",
    "import matplotlib.pyplot as plt\n",
    "%matplotlib inline"
   ]
  },
  {
   "cell_type": "code",
   "execution_count": 6,
   "id": "b0623106-4eff-44fd-9237-de132ec18cea",
   "metadata": {},
   "outputs": [
    {
     "name": "stdout",
     "output_type": "stream",
     "text": [
      "                       price\n",
      "timestamp                   \n",
      "2022-01-01 16:00:00 47816.08\n",
      "2022-01-02 16:00:00 47387.21\n",
      "2022-01-03 16:00:00 46531.14\n",
      "2022-01-04 16:00:00 45938.02\n",
      "2022-01-05 16:00:00 43647.15\n",
      "...                      ...\n",
      "2022-11-06 16:00:00 20907.00\n",
      "2022-11-07 16:00:00 20597.76\n",
      "2022-11-08 16:00:00 18562.35\n",
      "2022-11-09 16:00:00 15742.44\n",
      "2022-11-10 16:00:00 17594.92\n",
      "\n",
      "[314 rows x 1 columns]\n"
     ]
    }
   ],
   "source": [
    "coin_id = \"bitcoin\"\n",
    "start_time = 1641042000 #2022-01-01 1pmGMT\n",
    "end_time = 1668208735 #now\n",
    "url = f\"https://api.coingecko.com/api/v3/coins/{coin_id}/market_chart/range?vs_currency=usd&from={start_time}&to={end_time}\"\n",
    "response = requests.get(url)\n",
    "data = response.json()\n",
    "\n",
    "timestamp_list = []\n",
    "price_list = []\n",
    "\n",
    "for row in data['prices'] :\n",
    "    timestamp_list.append(datetime.datetime.fromtimestamp(row[0]/1000))\n",
    "    price_list.append(row[1])\n",
    "raw_data = {'timestamp': timestamp_list, 'price' : price_list}\n",
    "df = pd.DataFrame(raw_data, columns=['timestamp','price'])\n",
    "pd.options.display.float_format = '{:.2f}'.format\n",
    "df = df.set_index('timestamp')\n",
    "print(df)"
   ]
  },
  {
   "cell_type": "code",
   "execution_count": null,
   "id": "c9d40537-f664-4e2d-8e2c-1c20dcef2160",
   "metadata": {},
   "outputs": [],
   "source": []
  }
 ],
 "metadata": {
  "kernelspec": {
   "display_name": "testing",
   "language": "python",
   "name": "testing"
  },
  "language_info": {
   "codemirror_mode": {
    "name": "ipython",
    "version": 3
   },
   "file_extension": ".py",
   "mimetype": "text/x-python",
   "name": "python",
   "nbconvert_exporter": "python",
   "pygments_lexer": "ipython3",
   "version": "3.7.13"
  }
 },
 "nbformat": 4,
 "nbformat_minor": 5
}
