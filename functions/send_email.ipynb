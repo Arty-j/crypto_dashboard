{
 "cells": [
  {
   "cell_type": "markdown",
   "id": "eff709e3-f95a-46f9-b5ae-046dd9bd84ae",
   "metadata": {},
   "source": [
    "Send email"
   ]
  },
  {
   "cell_type": "code",
   "execution_count": null,
   "id": "b83d1562-8c6e-4e5d-b4b6-390b74b671f9",
   "metadata": {},
   "outputs": [],
   "source": [
    "import ssl, smtplib, os\n",
    "import pandas as pd\n",
    "from datetime import date\n",
    "from email.mime.text import MIMEText\n",
    "from email.mime.multipart import MIMEMultipart\n",
    "import notification_email_body"
   ]
  },
  {
   "cell_type": "code",
   "execution_count": null,
   "id": "b9d9247f-536e-4431-8173-a1052fbd8d23",
   "metadata": {},
   "outputs": [],
   "source": [
    "notification_email_body(notificaiton_body)"
   ]
  },
  {
   "cell_type": "code",
   "execution_count": null,
   "id": "259d8b9d-086c-4e53-8c57-f1b31b8410d4",
   "metadata": {},
   "outputs": [],
   "source": [
    "\n",
    "print(load_dotenv())\n",
    "\n",
    "email_sender = os.getenv('email_address')\n",
    "email_key = os.getenv('email_key')\n",
    "\n",
    "#email_receivers = list(pd.read_csv(r\".\\members_list.csv\").loc[:,\"emails\"].dropna())\n",
    "email_receivers = ['theartman4@gmail.com'] #+ email_receivers\n",
    "\n",
    "\n",
    "coin_id = \"Bitcoin\"\n",
    "filter_met = \"daily returns\"\n",
    "b_s = \"buy\"\n",
    "current_date = date.today()\n",
    "current_date = current_date.strftime(\"%d/%m/%Y\")\n",
    "\n",
    "with smtplib.SMTP('smtp.gmail.com', 587) as smtp:\n",
    "    smtp.ehlo()\n",
    "    smtp.starttls()\n",
    "    smtp.ehlo()\n",
    "\n",
    "    smtp.login(email_sender, email_key)\n",
    "    \n",
    "    subject = f'Crypto Updade for {current_date}'\n",
    "    email_body = f\"\"\"\\\n",
    "    Hello, \n",
    "    {notificaiton_body}\n",
    "\n",
    "    Yours Crypto Team,\n",
    "    BCS Rocks\"\"\"\n",
    "    msg = f'Subject: {subject}\\n\\n{email_body}'\n",
    "    smtp.sendmail(email_sender, email_receivers, msg)\n",
    "    \n",
    "print('sweet baby jeasus this worked')"
   ]
  }
 ],
 "metadata": {
  "kernelspec": {
   "display_name": "Python (dev)",
   "language": "python",
   "name": "dev"
  },
  "language_info": {
   "codemirror_mode": {
    "name": "ipython",
    "version": 3
   },
   "file_extension": ".py",
   "mimetype": "text/x-python",
   "name": "python",
   "nbconvert_exporter": "python",
   "pygments_lexer": "ipython3",
   "version": "3.7.13"
  }
 },
 "nbformat": 4,
 "nbformat_minor": 5
}
