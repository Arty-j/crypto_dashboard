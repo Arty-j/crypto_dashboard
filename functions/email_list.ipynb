{
 "cells": [
  {
   "cell_type": "code",
   "execution_count": null,
   "id": "09951397-81f8-4384-9dbb-2a4c9f4cd075",
   "metadata": {},
   "outputs": [],
   "source": [
    "# Import modules\n",
    "import pandas as pd\n",
    "import sqlalchemy as sql"
   ]
  },
  {
   "cell_type": "code",
   "execution_count": null,
   "id": "ac10665b-cffe-46f0-9ca2-d267c6c53196",
   "metadata": {},
   "outputs": [],
   "source": [
    "email_list = []\n",
    "#function to add emails to df and safe to database    \n",
    "def add_email(new_email):\n",
    "        email = []\n",
    "        email_list = email.append(new_email)\n",
    "        email_df = pd.DataFrame({'Email': [email_list]})  #email_df = pd.DataFrame([email_list], columns = [\"Email\"])\n",
    "        database_connection_string = 'sqlite:///../Resources/email_list.db'\n",
    "        engine = sql.create_engine(database_connection_string, echo=True)\n",
    "        email_df.to_sql('member_emails', engine, index=False, if_exists='append')\n",
    "        return email_list"
   ]
  }
 ],
 "metadata": {
  "kernelspec": {
   "display_name": "Python (dev)",
   "language": "python",
   "name": "dev"
  },
  "language_info": {
   "codemirror_mode": {
    "name": "ipython",
    "version": 3
   },
   "file_extension": ".py",
   "mimetype": "text/x-python",
   "name": "python",
   "nbconvert_exporter": "python",
   "pygments_lexer": "ipython3",
   "version": "3.7.13"
  }
 },
 "nbformat": 4,
 "nbformat_minor": 5
}
