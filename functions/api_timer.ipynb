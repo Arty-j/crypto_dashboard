{
 "cells": [
  {
   "cell_type": "code",
   "execution_count": null,
   "id": "ff931acd-45aa-46d3-892d-d2d390c6bb65",
   "metadata": {},
   "outputs": [],
   "source": [
    "import schedule\n",
    "import time\n",
    "from functions import get_live_data"
   ]
  },
  {
   "cell_type": "code",
   "execution_count": null,
   "id": "b2fd6b61-2708-4766-b6bc-76527231fe59",
   "metadata": {},
   "outputs": [],
   "source": [
    "#timer function to run api call every 5 minutes\n",
    "def api_timer():\n",
    "    schedule.every(2).minutes.do(get_live_data())\n",
    "    \n",
    "    while True:\n",
    "        schedule.run_pending()\n",
    "        time.sleep(2)\n"
   ]
  }
 ],
 "metadata": {
  "kernelspec": {
   "display_name": "Python (dev)",
   "language": "python",
   "name": "dev"
  },
  "language_info": {
   "codemirror_mode": {
    "name": "ipython",
    "version": 3
   },
   "file_extension": ".py",
   "mimetype": "text/x-python",
   "name": "python",
   "nbconvert_exporter": "python",
   "pygments_lexer": "ipython3",
   "version": "3.7.13"
  }
 },
 "nbformat": 4,
 "nbformat_minor": 5
}
