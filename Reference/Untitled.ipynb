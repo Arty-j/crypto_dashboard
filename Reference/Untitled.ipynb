{
 "cells": [
  {
   "cell_type": "code",
   "execution_count": null,
   "id": "38a790d8-1df0-4c9a-97e6-9cffe84f012c",
   "metadata": {},
   "outputs": [],
   "source": [
    "import pandas as pd\n",
    "import requests\n",
    "import json\n",
    "\n",
    "\n",
    "# Make the API request\n",
    "end_at = datetime.datetime.now()\n",
    "begin_from = end_at + datetime.timedelta(days=-90)\n",
    "\n",
    "end = str(int ((end - datetime.datetime (1970,1,1)).total_seconds ()))\n",
    "            start = str(int ((start - datetime.datetime (1970,1,1)).total_seconds ()))\n",
    "coin_id = \"bitcoin\"\n",
    "api_url = (f\"https://api.coingecko.com/api/v3/coins/{coin_id}/market_chart/range?vs_currency=usd&from={start_time}&to={end_time}\")\n",
    "# Fetch the current coin data\n",
    "response = requests.get(api_url).json()\n",
    "\n",
    "# Display response data\n",
    "print(json.dumps(response, indent=4, sort_keys=True))\n",
    "\n",
    "\n",
    "    data = pd.DataFrame ()\n",
    "    end_at = datetime.datetime.now()\n",
    "    begin_from = end_at + datetime.timedelta(days=-1)\n",
    "    for t in tqdm (stock_universe):\n",
    "        print(t)\n",
    "        print(len (data))\n",
    "        for start in pd.date_range (start = begin_from, end = end_at, normalize=True, freq = '90D'):\n",
    "            end = start + datetime.timedelta(days = 90)\n",
    "            end = str(int ((end - datetime.datetime (1970,1,1)).total_seconds ()))\n",
    "            start = str(int ((start - datetime.datetime (1970,1,1)).total_seconds ()))\n",
    "            try:\n",
    "                r = requests.get(\n",
    "            except json.JSONDecodeError:\n",
    "                pass"
   ]
  }
 ],
 "metadata": {
  "kernelspec": {
   "display_name": "testing",
   "language": "python",
   "name": "testing"
  },
  "language_info": {
   "codemirror_mode": {
    "name": "ipython",
    "version": 3
   },
   "file_extension": ".py",
   "mimetype": "text/x-python",
   "name": "python",
   "nbconvert_exporter": "python",
   "pygments_lexer": "ipython3",
   "version": "3.7.13"
  }
 },
 "nbformat": 4,
 "nbformat_minor": 5
}
