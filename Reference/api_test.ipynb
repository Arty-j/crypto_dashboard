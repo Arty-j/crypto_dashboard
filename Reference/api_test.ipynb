{
 "cells": [
  {
   "cell_type": "code",
   "execution_count": 1,
   "id": "0b6c05b8-aa43-483d-bd84-ca41bb825804",
   "metadata": {},
   "outputs": [],
   "source": [
    "# Import the required libraries and dependencies\n",
    "import pandas as pd\n",
    "import requests\n",
    "import json"
   ]
  },
  {
   "cell_type": "code",
   "execution_count": 2,
   "id": "2830a000-0833-4618-936c-18f5767a01bf",
   "metadata": {},
   "outputs": [
    {
     "name": "stdout",
     "output_type": "stream",
     "text": [
      "[\n",
      "    {\n",
      "        \"ath\": 69045,\n",
      "        \"ath_change_percentage\": -75.871,\n",
      "        \"ath_date\": \"2021-11-10T14:24:11.849Z\",\n",
      "        \"atl\": 67.81,\n",
      "        \"atl_change_percentage\": 24468.73441,\n",
      "        \"atl_date\": \"2013-07-06T00:00:00.000Z\",\n",
      "        \"circulating_supply\": 19207481.0,\n",
      "        \"current_price\": 16659.81,\n",
      "        \"fully_diluted_valuation\": 349870064373,\n",
      "        \"high_24h\": 17176.32,\n",
      "        \"id\": \"bitcoin\",\n",
      "        \"image\": \"https://assets.coingecko.com/coins/images/1/large/bitcoin.png?1547033579\",\n",
      "        \"last_updated\": \"2022-11-15T00:39:39.271Z\",\n",
      "        \"low_24h\": 15906.19,\n",
      "        \"market_cap\": 320005838758,\n",
      "        \"market_cap_change_24h\": 7208724290,\n",
      "        \"market_cap_change_percentage_24h\": 2.3046,\n",
      "        \"market_cap_rank\": 1,\n",
      "        \"max_supply\": 21000000.0,\n",
      "        \"name\": \"Bitcoin\",\n",
      "        \"price_change_24h\": 405.25,\n",
      "        \"price_change_percentage_1h_in_currency\": -0.29275096970662806,\n",
      "        \"price_change_percentage_24h\": 2.49317,\n",
      "        \"roi\": null,\n",
      "        \"symbol\": \"btc\",\n",
      "        \"total_supply\": 21000000.0,\n",
      "        \"total_volume\": 37563204435\n",
      "    }\n",
      "]\n"
     ]
    }
   ],
   "source": [
    "# Make the API request\n",
    "coin_id = \"bitcoin\"\n",
    "api_url = (f'https://api.coingecko.com/api/v3/coins/markets?vs_currency=usd&ids={coin_id}&order=market_cap_desc&per_page=10&page=1&sparkline=false&price_change_percentage=1h')\n",
    "\n",
    "# Fetch the current coin data\n",
    "response = requests.get(api_url).json()\n",
    "\n",
    "# Display response data\n",
    "print(json.dumps(response, indent=4, sort_keys=True))\n"
   ]
  },
  {
   "cell_type": "code",
   "execution_count": null,
   "id": "3485ee28-5339-4029-b2cf-e9927cd49d03",
   "metadata": {},
   "outputs": [],
   "source": [
    "coin_all_info_df = pd.DataFrame(response)\n",
    "coin_all_info_df.head()"
   ]
  },
  {
   "cell_type": "code",
   "execution_count": null,
   "id": "8d17e2a2-b17d-45ed-b39b-7a06ca3bd8a3",
   "metadata": {},
   "outputs": [],
   "source": [
    "coin_all_info_df[\"last_updated\"] = pd.to_datetime(coin_all_info_df[\"last_updated\"])\n",
    "coin_all_info_df.info()"
   ]
  },
  {
   "cell_type": "code",
   "execution_count": null,
   "id": "07cf431e-a4d3-4eb5-8f18-6db5845eb979",
   "metadata": {},
   "outputs": [],
   "source": [
    "coin_df = coin_all_info_df.drop(['image', 'fully_diluted_valuation', 'ath', 'ath_change_percentage', 'ath_date', 'atl', 'atl_change_percentage', 'atl_date', 'roi'], axis=1)\n",
    "coin_df = coin_df.rename(columns = {'index' : 'id'})\n",
    "coin_df = coin_df.set_index('id')\n",
    "coin_df"
   ]
  },
  {
   "cell_type": "code",
   "execution_count": null,
   "id": "deeba73b-92ac-403d-b14f-e8567d86e3bb",
   "metadata": {},
   "outputs": [],
   "source": [
    "coin_name = coin_df['name']\n",
    "display(coin_name)\n",
    "coin_symbol = coin_df['symbol']\n",
    "print(f\"The symbol for {coin_name} is {coin_symbol}\")"
   ]
  },
  {
   "cell_type": "code",
   "execution_count": null,
   "id": "16c3348e-ce78-4d4f-a5a4-8290a8e03aaf",
   "metadata": {},
   "outputs": [],
   "source": [
    "\n",
    "coin_price = coin_df['current_price']\n",
    "hr24_price_high = coin_df['high_24h']\n",
    "hr24_price_low = coin_df ['low_24h']\n",
    "market_cap = coin_df['market_cap']                     \n",
    "print(f\"The current price for {coin_name} is ${coin_price}. It's 24 hour high was {hr24_price_high}, and the 24hr low was{hr24_price_low}\")\n",
    "\n",
    "coin_volume = response['total_volume']\n",
    "print(f\"The 24 hour volume for {coin_name} is {coin_volume}\")\n",
    "\n",
    "coin_return = response['price_change_percentage_24h']\n",
    "print(f\"The 24hour return for {coin_name} is {coin_return: .4f}\")"
   ]
  },
  {
   "cell_type": "markdown",
   "id": "461a7080-3fb7-4812-acdd-968378e1cc73",
   "metadata": {},
   "source": [
    "GEt PRICE CODE FROM FIRAS"
   ]
  },
  {
   "cell_type": "code",
   "execution_count": null,
   "id": "a2a40ad9-3b21-4177-ad1d-0ba815970db4",
   "metadata": {},
   "outputs": [],
   "source": [
    "def get_prices (interval, file_name):\n",
    "    data = pd.DataFrame ()\n",
    "    end_at = datetime.datetime.now()\n",
    "    begin from = end at + datetime.timedelta(days=-1)\n",
    "    for t in tqdm (stock_universe):\n",
    "        print(t)\n",
    "        print(len (data))\n",
    "        for start in pd.date_range (start = begin_from, end = end_at, normalize=True, freq = '88D'):\n",
    "            end = start + datetime.timedelta(days = 88)\n",
    "            end = str(int ((end - datetime.datetime (1970,1,1)).total_seconds ()))\n",
    "            start = str(int ((start - datetime.datetime (1970,1,1)).total_seconds ()))\n",
    "            try:\n",
    "                r = requests.get('https://api.coingecko.com/api/v3/coins/markets?vs_currency=usd&ids=bitcoin&order=market_cap_desc&per_page=10&page=1&sparkline=false&price_change_percentage=1h'\n",
    "            except json.JSONDecodeError:\n",
    "                pass"
   ]
  },
  {
   "cell_type": "code",
   "execution_count": null,
   "id": "49c0e4a9-ff3f-4c99-9186-21dbd2150f77",
   "metadata": {},
   "outputs": [],
   "source": [
    "coin_info_df = coin_all_info_df.loc[:,['id', 'symbol', 'name', 'market_cap_rank', 'last_updated']]\n",
    "\n",
    "coin_info_df = coin_info_df.set_index('id')\n",
    "coin_info_df"
   ]
  },
  {
   "cell_type": "code",
   "execution_count": null,
   "id": "9b9f788c-d5a7-4187-9937-a136f19250f8",
   "metadata": {},
   "outputs": [],
   "source": []
  }
 ],
 "metadata": {
  "kernelspec": {
   "display_name": "Python (dev)",
   "language": "python",
   "name": "dev"
  },
  "language_info": {
   "codemirror_mode": {
    "name": "ipython",
    "version": 3
   },
   "file_extension": ".py",
   "mimetype": "text/x-python",
   "name": "python",
   "nbconvert_exporter": "python",
   "pygments_lexer": "ipython3",
   "version": "3.7.13"
  }
 },
 "nbformat": 4,
 "nbformat_minor": 5
}
